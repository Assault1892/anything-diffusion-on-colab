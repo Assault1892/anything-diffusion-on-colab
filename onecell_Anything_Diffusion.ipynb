{
  "nbformat": 4,
  "nbformat_minor": 0,
  "metadata": {
    "colab": {
      "provenance": [],
      "authorship_tag": "ABX9TyMCiQN/Ox+/C5uiEGwu9AIP",
      "include_colab_link": true
    },
    "kernelspec": {
      "name": "python3",
      "display_name": "Python 3"
    },
    "language_info": {
      "name": "python"
    },
    "accelerator": "GPU",
    "gpuClass": "standard"
  },
  "cells": [
    {
      "cell_type": "markdown",
      "metadata": {
        "id": "view-in-github",
        "colab_type": "text"
      },
      "source": [
        "<a href=\"https://colab.research.google.com/github/Assault1892/anything-diffusion-on-colab/blob/main/onecell_Anything_Diffusion.ipynb\" target=\"_parent\"><img src=\"https://colab.research.google.com/assets/colab-badge.svg\" alt=\"Open In Colab\"/></a>"
      ]
    },
    {
      "cell_type": "markdown",
      "source": [
        "多分動く"
      ],
      "metadata": {
        "id": "JMrLJydXQS37"
      }
    },
    {
      "cell_type": "code",
      "execution_count": null,
      "metadata": {
        "id": "Z1ryZBW4QBYr",
        "cellView": "form"
      },
      "outputs": [],
      "source": [
        "#@title 1セルAnything Diffusion\n",
        "from google.colab import drive\n",
        "import os\n",
        "import shutil\n",
        "import urllib\n",
        "\n",
        "# Google Drive をマウント\n",
        "print(\"Mounting Google Drive\")\n",
        "drive.mount('/content/drive')\n",
        "print(\" \")\n",
        "\n",
        "# NVIDIA SMIで確認\n",
        "!nvidia-smi\n",
        "print(\" \")\n",
        "\n",
        "# WebUIをクローン\n",
        "!git clone https://github.com/AUTOMATIC1111/stable-diffusion-webui /content/webui\n",
        "!cd /content/webui\n",
        "\n",
        "# 設定ファイル類をfetch\n",
        "print(\"Check config files\")\n",
        "print(\" \")\n",
        "is_config = os.path.isfile(\"/content/drive/MyDrive/webui-outputs/config.json\")\n",
        "is_uiconfig = os.path.isfile(\"/content/drive/MyDrive/webui-outputs/ui-config.json\")\n",
        "is_style = os.path.isfile(\"/content/drive/MyDrive/webui-outputs/styles.csv\")\n",
        "if is_config:\n",
        "  print(\"Config loaded from your drive\")\n",
        "  print(\" \")\n",
        "  shutil.copyfile(\"/content/drive/MyDrive/webui-outputs/config.json\", \"/content/webui/config.json\")\n",
        "else:\n",
        "  print(\"Config fetching\")\n",
        "  config_url = \"https://gist.githubusercontent.com/Assault1892/50360f8a4103aefe6a1d872c2cc3809a/raw/7cc63bb6c64d36ce9246c3e18b98783295f2c30d/config.json\"\n",
        "  urllib.request.urlretrieve(config_url, \"/content/webui/config.json\")\n",
        "  print(\"Config fetched\")\n",
        "  print(\" \")\n",
        "  pass\n",
        "\n",
        "if is_uiconfig:\n",
        "  print(\"UI Config loaded from your drive\")\n",
        "  print(\" \")\n",
        "  shutil.copyfile(\"/content/drive/MyDrive/webui-outputs/ui-config.json\", \"/content/webui/ui-config.json\")\n",
        "else:\n",
        "  print(\"UI Config fetching\")\n",
        "  uiconfig_url = \"https://gist.githubusercontent.com/Assault1892/55b9ee9040571c68887a1b9dd58511b9/raw/c82bec338d33d4c63ba6c07da135f867bea77f52/ui-config.json\"\n",
        "  urllib.request.urlretrieve(uiconfig_url, \"/content/webui/ui-config.json\")\n",
        "  print(\"UI Config fetched\")\n",
        "  print(\" \")\n",
        "  pass\n",
        "\n",
        "if is_style:\n",
        "  print(\"Style file loaded from your drive\")\n",
        "  print(\" \")\n",
        "  shutil.copyfile(\"/content/drive/MyDrive/webui-outputs/styles.csv\", \"/content/webui/styles.csv\")\n",
        "else:\n",
        "  print(\"Style file fetching\")\n",
        "  uiconfig_url = \"https://gist.githubusercontent.com/Assault1892/09944e75ecc7a009194cbcd95716aa51/raw/57e98aa9de188ddcf896210dd130ff42feeffd27/styles.csv\"\n",
        "  urllib.request.urlretrieve(uiconfig_url, \"/content/webui/styles.csv\")\n",
        "  print(\"Style file fetched\")\n",
        "  print(\" \")\n",
        "  pass\n",
        "\n",
        "# Anything Diffusionのモデル類を取得しリネーム\n",
        "\n",
        "ckpturl = \"https://huggingface.co/Linaqruf/anything-v3.0/resolve/main/Anything-V3.0-pruned.ckpt\"\n",
        "vaeurl = \"https://huggingface.co/Linaqruf/anything-v3.0/resolve/main/Anything-V3.0.vae.pt\"\n",
        "print(\"Downloading model file\")\n",
        "urllib.request.urlretrieve(ckpturl, \"model.ckpt\")\n",
        "print(\"Downloading VAE file\")\n",
        "urllib.request.urlretrieve(vaeurl, \"model.vae.pt\")\n",
        "shutil.move(\"model.ckpt\", \"/content/webui/models/Stable-diffusion/model.ckpt\")\n",
        "shutil.move(\"model.vae.pt\", \"/content/webui/models/Stable-diffusion/model.vae.pt\")\n",
        "\n",
        "os.chdir(\"/content/webui\")\n",
        "!COMMANDLINE_ARGS=\"--share --gradio-debug\" REQS_FILE=\"requirements.txt\" python launch.py"
      ]
    },
    {
      "cell_type": "code",
      "source": [
        "#@title 保存\n",
        "import datetime\n",
        "dt = datetime.datetime.now(datetime.timezone(datetime.timedelta(hours=9)))\n",
        "dt_str = dt.strftime(\"%Y%m%d%H%M\")\n",
        "outputpath = (\"/content/drive/MyDrive/webui-outputs/\" + dt_str + \"-outputs\")\n",
        "checkpath = \"/content/drive/MyDrive/webui-outputs/\"\n",
        "if os.path.exists(checkpath):\n",
        "  shutil.copytree(\"/content/webui/outputs/\", outputpath)\n",
        "  print(\"output exported\")\n",
        "else:\n",
        "  os.mkdir(checkpath)\n",
        "  shutil.copytree(\"/content/webui/outputs/\", outputpath)\n",
        "  print(\"directory not found, make directory...\")\n",
        "  print(\"output exported\")\n",
        "  pass\n",
        "\n",
        "shutil.copyfile(\"/content/webui/config.json\", \"/content/drive/MyDrive/webui-outputs/config.json\")\n",
        "print(\"config exported\")\n",
        "shutil.copyfile(\"/content/webui/ui-config.json\", \"/content/drive/MyDrive/webui-outputs/ui-config.json\")\n",
        "print(\"ui config exported\")\n",
        "shutil.copyfile(\"/content/webui/styles.csv\", \"/content/drive/MyDrive/webui-outputs/styles.csv\")\n",
        "print(\"style file exported\")"
      ],
      "metadata": {
        "id": "13V4ezN1d2Pl",
        "cellView": "form"
      },
      "execution_count": null,
      "outputs": []
    }
  ]
}