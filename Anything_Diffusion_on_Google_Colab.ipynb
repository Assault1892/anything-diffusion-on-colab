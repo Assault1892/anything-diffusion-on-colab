{
  "nbformat": 4,
  "nbformat_minor": 0,
  "metadata": {
    "colab": {
      "provenance": [],
      "authorship_tag": "ABX9TyNgXSS/sUnLRr6TPzcCGqiN",
      "include_colab_link": true
    },
    "kernelspec": {
      "name": "python3",
      "display_name": "Python 3"
    },
    "language_info": {
      "name": "python"
    },
    "accelerator": "GPU",
    "gpuClass": "standard"
  },
  "cells": [
    {
      "cell_type": "markdown",
      "metadata": {
        "id": "view-in-github",
        "colab_type": "text"
      },
      "source": [
        "<a href=\"https://colab.research.google.com/github/Assault1892/anything-diffusion-on-colab/blob/main/Anything_Diffusion_on_Google_Colab.ipynb\" target=\"_parent\"><img src=\"https://colab.research.google.com/assets/colab-badge.svg\" alt=\"Open In Colab\"/></a>"
      ]
    },
    {
      "cell_type": "markdown",
      "source": [
        "必ず **ドライブのコピー** を押して自分のDriveにコピーしてから作業してください！"
      ],
      "metadata": {
        "id": "FRJwHnPFm7Wh"
      }
    },
    {
      "cell_type": "code",
      "source": [
        "#@title 1. おまじない\n",
        "import os\n",
        "os.kill(os.getpid(), 9)"
      ],
      "metadata": {
        "id": "a01UAXFXh8z3"
      },
      "execution_count": null,
      "outputs": []
    },
    {
      "cell_type": "markdown",
      "source": [
        "ある種の初期化処理ですがやり方がかなり強引です。  \n",
        "より良い方法を知っている方がいたら教えてください。多分色々良くないはず。\n",
        "\n",
        "「セッションがクラッシュした」とか言われますがそれで正常です。次に進んでください。"
      ],
      "metadata": {
        "id": "ioqiBJCrjEyk"
      }
    },
    {
      "cell_type": "code",
      "source": [
        "#@title 2. Google Driveとの連携 兼 GPU確認\n",
        "from google.colab import drive\n",
        "drive.mount('/content/drive')\n",
        "!nvidia-smi"
      ],
      "metadata": {
        "id": "hvfbinDxiRFO"
      },
      "execution_count": null,
      "outputs": []
    },
    {
      "cell_type": "markdown",
      "source": [
        "後に使う「config.json」や「出力した画像」を保存するのにマウントが必要です。  \n",
        "もし `NVIDIA-SMI` と書かれたログが出なかった際は運悪くGPU無しランタイムが割り振られてしまった為，  \n",
        "上の「ランタイム」→「ランタイムのタイプを変更」→「ハードウェア アクセラレータ」を「GPU」にして一からやり直してください"
      ],
      "metadata": {
        "id": "TzODIsSXiZRh"
      }
    },
    {
      "cell_type": "code",
      "source": [
        "#@title 3. Stable Diffusion WebUIをcloneし，設定ファイルを取得\n",
        "%%bash\n",
        "\n",
        "git clone https://github.com/AUTOMATIC1111/stable-diffusion-webui /content/webui\n",
        "cd /content/webui\n",
        "\n",
        "# config.jsonがDriveに存在するなら取得し，存在しないならgistからAnything Diffusion用configを取得\n",
        "if [ -e /content/drive/MyDrive/webui-outputs/config.json ]; then\n",
        "  echo \"Config loaded from your drive\"\n",
        "  cp -r /content/drive/MyDrive/webui-outputs/config.json /content/webui/config.json\n",
        "else\n",
        "  echo \"Config fetching...\"\n",
        "  wget https://gist.githubusercontent.com/Assault1892/50360f8a4103aefe6a1d872c2cc3809a/raw/7cc63bb6c64d36ce9246c3e18b98783295f2c30d/config.json -O /content/webui/config.json\n",
        "fi\n",
        "\n",
        "# 同様にui-config.jsonが存在するなら取得し，存在しないならgistから取得\n",
        "if [ -e /content/drive/MyDrive/webui-outputs/ui-config.json ]; then\n",
        "  echo \"UI Config loaded from your drive\"\n",
        "  cp -r /content/drive/MyDrive/webui-outputs/ui-config.json /content/webui/ui-config.json\n",
        "else\n",
        "  echo \"UI Config fetching...\"\n",
        "  wget https://gist.githubusercontent.com/Assault1892/55b9ee9040571c68887a1b9dd58511b9/raw/c82bec338d33d4c63ba6c07da135f867bea77f52/ui-config.json -O /content/webui/ui-config.json\n",
        "fi\n",
        "\n",
        "# 同様にstyles.csvが存在するなら取得し，存在しないならgistから取得\n",
        "if [ -e /content/drive/MyDrive/webui-outputs/styles.csv ]; then\n",
        "  echo \"Style file loaded from your drive\"\n",
        "  cp -r /content/drive/MyDrive/webui-outputs/styles.csv /content/webui/styles.csv\n",
        "else\n",
        "  echo \"Style file fetching...\"\n",
        "  wget https://gist.githubusercontent.com/Assault1892/09944e75ecc7a009194cbcd95716aa51/raw/57e98aa9de188ddcf896210dd130ff42feeffd27/styles.csv -O /content/webui/styles.csv\n",
        "fi"
      ],
      "metadata": {
        "id": "xZsnLRhvigs9"
      },
      "execution_count": null,
      "outputs": []
    },
    {
      "cell_type": "markdown",
      "source": [
        "config.json, ui-config.json, styles.csvをDriveから取得しようとし，存在しないならgistからAnything用に調整したファイルを引っ張ってきます  \n",
        "だいぶ適当に書いたのでそのうち最適化します"
      ],
      "metadata": {
        "id": "l0RjvDg7rRjE"
      }
    },
    {
      "cell_type": "markdown",
      "source": [],
      "metadata": {
        "id": "TkoGYlT8riBU"
      }
    },
    {
      "cell_type": "code",
      "source": [
        "#@title 4. モデルのCheckpointとVAEを取得し，リネーム\n",
        "%%bash\n",
        "cd /content/webui/models/Stable-diffusion/\n",
        "wget https://huggingface.co/Linaqruf/anything-v3.0/resolve/main/Anything-V3.0-pruned.ckpt\n",
        "wget https://huggingface.co/Linaqruf/anything-v3.0/resolve/main/Anything-V3.0.vae.pt\n",
        "mv Anything-V3.0-pruned.ckpt model.ckpt\n",
        "mv Anything-V3.0.vae.pt model.vae.pt\n",
        "ls"
      ],
      "metadata": {
        "id": "c_5XRu5skJi1"
      },
      "execution_count": null,
      "outputs": []
    },
    {
      "cell_type": "markdown",
      "source": [
        "モデルファイルをDLしリネーム 大体5分ぐらいはかかります  \n",
        "もし `IOPub data rate exceeded` と出てもログの中に「model.ckpt」と「model.vae.pt」と書かれた行があればOKです  \n",
        "あったら次へ 無かったら教えてください 対策を考えます"
      ],
      "metadata": {
        "id": "XQyBApXalZVT"
      }
    },
    {
      "cell_type": "code",
      "source": [
        "#@title 5. 依存関係のインストール\n",
        "%cd webui\n",
        "!COMMANDLINE_ARGS=\"--exit\" REQS_FILE=\"requirements.txt\" python launch.py"
      ],
      "metadata": {
        "id": "uSm3VjPylg_W"
      },
      "execution_count": null,
      "outputs": []
    },
    {
      "cell_type": "markdown",
      "source": [
        "ちょっと長いです。"
      ],
      "metadata": {
        "id": "AQBDY4jlmyxd"
      }
    },
    {
      "cell_type": "code",
      "source": [
        "#@title 6. WebUIの実行\n",
        "#@markdown **このセルだけは実行が終了しません。** 再生ボタンが回転している状態=正常に動作している状態です。\n",
        "\n",
        "#@markdown しばらくして出てくる `[https://]xxxxxx(文字列).gradio.app` にアクセスしてください。\n",
        "\n",
        "#@markdown **出てきてすぐアクセスすると「502 Bad Gateway」が出るので落ち着いて** 多分Gradioが悪い\n",
        "\n",
        "#@markdown 下のuser, pwには適宜ユーザー名とパスワードを入力してください。gradio.appにアクセスしたときに必要です。\n",
        "\n",
        "user='me' #@param {type:\"string\"}\n",
        "pw='qwerty' #@param {type:\"string\"}\n",
        "!COMMANDLINE_ARGS=\"--share --gradio-debug --gradio-auth {user}:{pw}\" REQS_FILE=\"requirements.txt\" python launch.py"
      ],
      "metadata": {
        "id": "-9MLszoZpDRd"
      },
      "execution_count": null,
      "outputs": []
    },
    {
      "cell_type": "markdown",
      "source": [
        "「ログイン画面とかいらねーよ」って場合はuserとpwの行を削除し，  \n",
        "`COMMANDLINE_ARGS` 内の `--gradio-auth {user}:{pw}` を削除してください\n",
        "\n",
        "飽きたら普通に停止ボタン押しちゃって大丈夫です"
      ],
      "metadata": {
        "id": "-1UpbYHDpZJ-"
      }
    },
    {
      "cell_type": "code",
      "source": [
        "#@title 7. Driveに生成物とコンフィグを保存\n",
        "%%bash\n",
        "cp -r \"/content/webui/outputs\" \"/content/drive/MyDrive/webui-outputs/$(TZ=JST-9 date +%Y%m%d%H%M)-outputs\"\n",
        "echo \"Outputs exported\"\n",
        "cp -r \"/content/webui/config.json\" \"/content/drive/MyDrive/webui-outputs/\"\n",
        "echo \"Config exported\"\n",
        "cp -r \"/content/webui/ui-config.json\" \"/content/drive/MyDrive/webui-outputs\"\n",
        "echo \"UI Config exported\"\n",
        "cp -r \"/content/webui/styles.csv\" \"/content/drive/MyDrive/webui-outputs\"\n",
        "echo \"Style file exported\""
      ],
      "metadata": {
        "id": "coepUvHHq6K8"
      },
      "execution_count": null,
      "outputs": []
    },
    {
      "cell_type": "markdown",
      "source": [
        "生成物やコンフィグ類が全てDriveの「webui-outputs」フォルダに保存されます  \n",
        "可能性は薄いとは思いますがファイル名被りによる上書きを防止する為，outputsディレクトリの先頭に日付がつきます"
      ],
      "metadata": {
        "id": "OQ-sXJjwv94H"
      }
    }
  ]
}