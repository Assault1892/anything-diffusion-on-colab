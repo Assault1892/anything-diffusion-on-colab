{
  "nbformat": 4,
  "nbformat_minor": 0,
  "metadata": {
    "colab": {
      "provenance": [],
      "authorship_tag": "ABX9TyMag0EiqlkKPbWEZ/FEbRJI",
      "include_colab_link": true
    },
    "kernelspec": {
      "name": "python3",
      "display_name": "Python 3"
    },
    "language_info": {
      "name": "python"
    }
  },
  "cells": [
    {
      "cell_type": "markdown",
      "metadata": {
        "id": "view-in-github",
        "colab_type": "text"
      },
      "source": [
        "<a href=\"https://colab.research.google.com/github/Assault1892/anything-diffusion-on-colab/blob/main/Anything_Diffusion_on_Google_Colab.ipynb\" target=\"_parent\"><img src=\"https://colab.research.google.com/assets/colab-badge.svg\" alt=\"Open In Colab\"/></a>"
      ]
    },
    {
      "cell_type": "code",
      "source": [
        "#@title 1. おまじない\n",
        "import os\n",
        "os.kill(os.getpid(), 9)"
      ],
      "metadata": {
        "id": "a01UAXFXh8z3"
      },
      "execution_count": null,
      "outputs": []
    },
    {
      "cell_type": "markdown",
      "source": [
        "ある種の初期化処理ですがやり方がかなり強引です。  \n",
        "より良い方法を知っている方がいたら教えてください。多分色々良くないはず。\n",
        "\n",
        "「セッションがクラッシュした」とか言われますがそれで正常です。次に進んでください。"
      ],
      "metadata": {
        "id": "ioqiBJCrjEyk"
      }
    },
    {
      "cell_type": "code",
      "source": [
        "#@title 2. Google Drive\n",
        "from google.colab import drive\n",
        "drive.mount('/content/drive')"
      ],
      "metadata": {
        "colab": {
          "base_uri": "https://localhost:8080/"
        },
        "id": "hvfbinDxiRFO",
        "outputId": "aece51f5-e8ac-4426-968d-f50330edbca7"
      },
      "execution_count": null,
      "outputs": [
        {
          "output_type": "stream",
          "name": "stdout",
          "text": [
            "Mounted at /content/drive\n"
          ]
        }
      ]
    },
    {
      "cell_type": "markdown",
      "source": [
        "後に使う「config.json」や「出力した画像」を保存するのにマウントが必要です。"
      ],
      "metadata": {
        "id": "TzODIsSXiZRh"
      }
    },
    {
      "cell_type": "code",
      "source": [
        "#@title 3. Stable Diffusion WebUIをcloneし，設定ファイルを取得\n",
        "%%bash\n",
        "\n",
        "git clone https://github.com/AUTOMATIC1111/stable-diffusion-webui /content/webui\n",
        "cd /content/webui\n",
        "\n",
        "# config.jsonがDriveに存在するなら取得し，存在しないならgistからAnything Diffusion用configを取得\n",
        "if [ -e /content/drive/MyDrive/webui-outputs/config.json ]; then\n",
        "  echo \"Config loaded from your drive\"\n",
        "  cp -r /content/drive/MyDrive/webui-outputs/config.json /content/webui/config.json\n",
        "else\n",
        "  echo \"Config fetching...\"\n",
        "  wget https://gist.githubusercontent.com/Assault1892/50360f8a4103aefe6a1d872c2cc3809a/raw/7cc63bb6c64d36ce9246c3e18b98783295f2c30d/config.json -O /content/webui/config.json\n",
        "fi"
      ],
      "metadata": {
        "colab": {
          "base_uri": "https://localhost:8080/"
        },
        "id": "xZsnLRhvigs9",
        "outputId": "31148fb4-b5c2-44ff-84ad-00fc01eec75e"
      },
      "execution_count": null,
      "outputs": [
        {
          "output_type": "stream",
          "name": "stdout",
          "text": [
            "Config loaded from your drive\n"
          ]
        },
        {
          "output_type": "stream",
          "name": "stderr",
          "text": [
            "Cloning into '/content/webui'...\n"
          ]
        }
      ]
    },
    {
      "cell_type": "code",
      "source": [
        "#@title 4. モデルのCheckpointとVAEを取得し，リネーム\n",
        "%%bash\n",
        "cd /content/webui/models/Stable-diffusion/\n",
        "wget https://huggingface.co/Linaqruf/anything-v3.0/resolve/main/Anything-V3.0-pruned.ckpt\n",
        "wget https://huggingface.co/Linaqruf/anything-v3.0/resolve/main/Anything-V3.0.vae.pt\n",
        "mv Anything-V3.0-pruned.ckpt model.ckpt\n",
        "mv Anything-V3.0.vae.pt model.vae.pt"
      ],
      "metadata": {
        "id": "c_5XRu5skJi1"
      },
      "execution_count": null,
      "outputs": []
    },
    {
      "cell_type": "markdown",
      "source": [
        "モデルファイルをDLしリネーム（多分一括で出来るはず いつかやる...）"
      ],
      "metadata": {
        "id": "XQyBApXalZVT"
      }
    },
    {
      "cell_type": "code",
      "source": [
        "#@title 5. WebUIを起動する"
      ],
      "metadata": {
        "id": "uSm3VjPylg_W"
      },
      "execution_count": null,
      "outputs": []
    }
  ]
}